{
  "nbformat": 4,
  "nbformat_minor": 0,
  "metadata": {
    "colab": {
      "name": "Cópia de DataScienceDoZero-Dia1.ipynb",
      "provenance": [],
      "collapsed_sections": [
        "fc85ML8bcsbR"
      ],
      "include_colab_link": true
    },
    "kernelspec": {
      "name": "python3",
      "display_name": "Python 3"
    }
  },
  "cells": [
    {
      "cell_type": "markdown",
      "metadata": {
        "id": "view-in-github",
        "colab_type": "text"
      },
      "source": [
        "<a href=\"https://colab.research.google.com/github/RuggeroProdesp/curso-Python/blob/main/C%C3%B3pia_de_DataScienceDoZero_Dia1.ipynb\" target=\"_parent\"><img src=\"https://colab.research.google.com/assets/colab-badge.svg\" alt=\"Open In Colab\"/></a>"
      ]
    },
    {
      "cell_type": "markdown",
      "metadata": {
        "id": "l16RNmVia3Gq"
      },
      "source": [
        "# Python\n",
        "\n",
        "---\n",
        "\n"
      ]
    },
    {
      "cell_type": "markdown",
      "metadata": {
        "id": "blkXmaN4bwzU"
      },
      "source": [
        "## Seu primeiro programa 🐣"
      ]
    },
    {
      "cell_type": "code",
      "metadata": {
        "id": "vBNGWECAa0eC",
        "outputId": "1c1c930f-2f75-4188-b239-829fcbad8359",
        "colab": {
          "base_uri": "https://localhost:8080/",
          "height": 51
        }
      },
      "source": [
        "nome = input(\"Qual é o seu nome? \")\n",
        "print(f\"Hello {nome}\")"
      ],
      "execution_count": null,
      "outputs": [
        {
          "output_type": "stream",
          "text": [
            "Qual é o seu nome? joão\n",
            "Hello joão\n"
          ],
          "name": "stdout"
        }
      ]
    },
    {
      "cell_type": "markdown",
      "metadata": {
        "id": "y_ZPazAymncC"
      },
      "source": [
        "1. Faça um Programa que mostre a mensagem \"Alo mundo\" na tela.\n",
        "2. Faça um Programa que peça um número e então mostre a mensagem \"O número informado foi [número].\"\n",
        "3. Faça um Programa que peça dois números e imprima a soma.\n",
        "4. Faça um Programa que peça as 3 notas e mostre a média.\n",
        "5. Faça um Programa que converta metros para centímetros."
      ]
    },
    {
      "cell_type": "code",
      "metadata": {
        "id": "Mo3W2VhZ_VQL",
        "outputId": "c01260bc-6a4f-45f0-93a3-36509d3c5331",
        "colab": {
          "base_uri": "https://localhost:8080/",
          "height": 34
        }
      },
      "source": [
        "print(\"Alo mundo\")"
      ],
      "execution_count": null,
      "outputs": [
        {
          "output_type": "stream",
          "text": [
            "Alo mundo\n"
          ],
          "name": "stdout"
        }
      ]
    },
    {
      "cell_type": "code",
      "metadata": {
        "id": "qtQdVbhU_j7K",
        "outputId": "94697bd8-17aa-425e-d852-9000d60dc955",
        "colab": {
          "base_uri": "https://localhost:8080/",
          "height": 51
        }
      },
      "source": [
        "numero = input(\"Digite um número: \")\n",
        "print(f\"O número informado foi {numero}\")"
      ],
      "execution_count": null,
      "outputs": [
        {
          "output_type": "stream",
          "text": [
            "Digite um número: 3\n",
            "O número informado foi 3\n"
          ],
          "name": "stdout"
        }
      ]
    },
    {
      "cell_type": "markdown",
      "metadata": {
        "id": "fF86Y11CcH-t"
      },
      "source": [
        "## Operadores\n",
        "### Aritméticos:\n",
        "![alt text](https://image.slidesharecdn.com/introduoapython-iijtims-mdulo1-131108230122-phpapp01/95/introduo-python-mdulo-1-46-638.jpg?cb=1383951826)\n",
        "### Lógicos:\n",
        "![alt text](https://image.slidesharecdn.com/apresentao-170510192311/95/captulo-2-python-6-638.jpg?cb=1494444228)"
      ]
    },
    {
      "cell_type": "code",
      "metadata": {
        "id": "9KiF8V3ocQZM",
        "outputId": "c90dec88-ccc2-49df-cd2f-66b8eca256ec",
        "colab": {
          "base_uri": "https://localhost:8080/",
          "height": 34
        }
      },
      "source": [
        "# SOMA\n",
        "1+1"
      ],
      "execution_count": null,
      "outputs": [
        {
          "output_type": "execute_result",
          "data": {
            "text/plain": [
              "2"
            ]
          },
          "metadata": {
            "tags": []
          },
          "execution_count": 6
        }
      ]
    },
    {
      "cell_type": "code",
      "metadata": {
        "id": "LX-sHjk2cS_m",
        "outputId": "cfbc1082-8091-4314-9a62-4cd4a47978c1",
        "colab": {
          "base_uri": "https://localhost:8080/",
          "height": 34
        }
      },
      "source": [
        "# SUBTRAÇÃO\n",
        "1-1"
      ],
      "execution_count": null,
      "outputs": [
        {
          "output_type": "execute_result",
          "data": {
            "text/plain": [
              "0"
            ]
          },
          "metadata": {
            "tags": []
          },
          "execution_count": 7
        }
      ]
    },
    {
      "cell_type": "code",
      "metadata": {
        "id": "4E7cwx1OcU9R",
        "outputId": "f9c8d0a3-4d82-40dd-bea0-3ed4bd57ca73",
        "colab": {
          "base_uri": "https://localhost:8080/",
          "height": 34
        }
      },
      "source": [
        "# MULTIPLICAÇÃO\n",
        "1*10"
      ],
      "execution_count": null,
      "outputs": [
        {
          "output_type": "execute_result",
          "data": {
            "text/plain": [
              "10"
            ]
          },
          "metadata": {
            "tags": []
          },
          "execution_count": 8
        }
      ]
    },
    {
      "cell_type": "code",
      "metadata": {
        "id": "fPVGehO0cXAn",
        "outputId": "90df7d18-d3a0-4abd-f68d-fb0b83717b4d",
        "colab": {
          "base_uri": "https://localhost:8080/",
          "height": 34
        }
      },
      "source": [
        "# DIVISÃO\n",
        "100 / 3"
      ],
      "execution_count": null,
      "outputs": [
        {
          "output_type": "execute_result",
          "data": {
            "text/plain": [
              "33.333333333333336"
            ]
          },
          "metadata": {
            "tags": []
          },
          "execution_count": 10
        }
      ]
    },
    {
      "cell_type": "code",
      "metadata": {
        "id": "4G7MTi1IcZ1K",
        "outputId": "659dd425-2b81-4efb-9249-f60be4229d32",
        "colab": {
          "base_uri": "https://localhost:8080/",
          "height": 34
        }
      },
      "source": [
        "# EXPONENCIAÇÃO\n",
        "4**2"
      ],
      "execution_count": null,
      "outputs": [
        {
          "output_type": "execute_result",
          "data": {
            "text/plain": [
              "16"
            ]
          },
          "metadata": {
            "tags": []
          },
          "execution_count": 11
        }
      ]
    },
    {
      "cell_type": "markdown",
      "metadata": {
        "id": "iSVkee19DfVK"
      },
      "source": [
        "## Tipos de Dados\n",
        "\n",
        "---\n",
        "\n",
        "* Inteiros:  declarados com **int()**\n",
        "<br>\n",
        "Exemplo de inteiros: 4, -234455, 21543...\n",
        "<br><br>\n",
        "* Flutuantes:  conhecidos como floating, são números decimais, declarados com **float()**\n",
        "<br>\n",
        "Exemplo de flutuantes: 4.0, -23.5, 215.43\n",
        "<br><br>\n",
        "* Booleanos:  conhecidos como lógicos, temos \"True\" ou \"False\", declarados com **bool()**\n",
        "<br>\n",
        "Exemplo de booleanos: True, False\n",
        "<br><br>\n",
        "* Strings:  conhecidos como cadeia de caracteres, inseridos entre aspas(duplas ou simples), declarados com **str()**\n",
        "<br>\n",
        "Exemplo de strings: \"oi!\", \"27\", \"23.50\""
      ]
    },
    {
      "cell_type": "code",
      "metadata": {
        "id": "OlMlroryFdgo",
        "outputId": "4921739f-da8c-4c2c-8ebd-f67e03be3a50",
        "colab": {
          "base_uri": "https://localhost:8080/",
          "height": 34
        }
      },
      "source": [
        "inteiro = 12\n",
        "type(inteiro)"
      ],
      "execution_count": null,
      "outputs": [
        {
          "output_type": "execute_result",
          "data": {
            "text/plain": [
              "int"
            ]
          },
          "metadata": {
            "tags": []
          },
          "execution_count": 3
        }
      ]
    },
    {
      "cell_type": "code",
      "metadata": {
        "id": "RzwqRmHBFpf3",
        "outputId": "1967a06b-5f43-4d81-c625-80b24e83eed0",
        "colab": {
          "base_uri": "https://localhost:8080/",
          "height": 34
        }
      },
      "source": [
        "flutuante = 12.5\n",
        "type(flutuante)"
      ],
      "execution_count": null,
      "outputs": [
        {
          "output_type": "execute_result",
          "data": {
            "text/plain": [
              "float"
            ]
          },
          "metadata": {
            "tags": []
          },
          "execution_count": 4
        }
      ]
    },
    {
      "cell_type": "code",
      "metadata": {
        "id": "4_ZeW7grFpos",
        "outputId": "b3286e7f-0d4e-4e24-d7cb-08a5791281f3",
        "colab": {
          "base_uri": "https://localhost:8080/",
          "height": 34
        }
      },
      "source": [
        "booleano = True\n",
        "type(booleano)"
      ],
      "execution_count": null,
      "outputs": [
        {
          "output_type": "execute_result",
          "data": {
            "text/plain": [
              "bool"
            ]
          },
          "metadata": {
            "tags": []
          },
          "execution_count": 5
        }
      ]
    },
    {
      "cell_type": "code",
      "metadata": {
        "id": "Wq9c8PjfFpyo",
        "outputId": "41710b9d-bd2e-40eb-8ec9-87784ae0ae4a",
        "colab": {
          "base_uri": "https://localhost:8080/",
          "height": 34
        }
      },
      "source": [
        "caracter = \"Olá, mundo!\"\n",
        "type(caracter)"
      ],
      "execution_count": null,
      "outputs": [
        {
          "output_type": "execute_result",
          "data": {
            "text/plain": [
              "str"
            ]
          },
          "metadata": {
            "tags": []
          },
          "execution_count": 6
        }
      ]
    },
    {
      "cell_type": "code",
      "metadata": {
        "id": "kHcCZadvYyyH",
        "outputId": "5fd23a1e-d638-4b81-9792-5b20c6dc0210",
        "colab": {
          "base_uri": "https://localhost:8080/",
          "height": 181
        }
      },
      "source": [
        "# VOCÊ PODE ALTERAR ALGUNS TIPOS DE DADOS\n",
        "10.45 - \"joão\""
      ],
      "execution_count": null,
      "outputs": [
        {
          "output_type": "error",
          "ename": "TypeError",
          "evalue": "ignored",
          "traceback": [
            "\u001b[0;31m---------------------------------------------------------------------------\u001b[0m",
            "\u001b[0;31mTypeError\u001b[0m                                 Traceback (most recent call last)",
            "\u001b[0;32m<ipython-input-8-f8f4bec18fa3>\u001b[0m in \u001b[0;36m<module>\u001b[0;34m()\u001b[0m\n\u001b[1;32m      1\u001b[0m \u001b[0;31m# VOCÊ PODE ALTERAR ALGUNS TIPOS DE DADOS\u001b[0m\u001b[0;34m\u001b[0m\u001b[0;34m\u001b[0m\u001b[0;34m\u001b[0m\u001b[0m\n\u001b[0;32m----> 2\u001b[0;31m \u001b[0;36m10.45\u001b[0m \u001b[0;34m-\u001b[0m \u001b[0;34m\"joão\"\u001b[0m\u001b[0;34m\u001b[0m\u001b[0;34m\u001b[0m\u001b[0m\n\u001b[0m",
            "\u001b[0;31mTypeError\u001b[0m: unsupported operand type(s) for -: 'float' and 'str'"
          ]
        }
      ]
    },
    {
      "cell_type": "markdown",
      "metadata": {
        "id": "9CL13GP7l0gb"
      },
      "source": [
        "## Estruturas de Dados"
      ]
    },
    {
      "cell_type": "code",
      "metadata": {
        "id": "pUotkSEWl8P3"
      },
      "source": [
        "# LISTA\n",
        "lista1 = []\n",
        "lista2 = ['josé', 'maria']\n",
        "lista3 = ['oi', 3.0, 40, True]"
      ],
      "execution_count": null,
      "outputs": []
    },
    {
      "cell_type": "code",
      "metadata": {
        "id": "MYUvv9aIDPvh",
        "outputId": "a1321b3b-14d4-465a-9804-3ef90d52517b",
        "colab": {
          "base_uri": "https://localhost:8080/",
          "height": 799
        }
      },
      "source": [
        "dir(lista1)"
      ],
      "execution_count": null,
      "outputs": [
        {
          "output_type": "execute_result",
          "data": {
            "text/plain": [
              "['__add__',\n",
              " '__class__',\n",
              " '__contains__',\n",
              " '__delattr__',\n",
              " '__delitem__',\n",
              " '__dir__',\n",
              " '__doc__',\n",
              " '__eq__',\n",
              " '__format__',\n",
              " '__ge__',\n",
              " '__getattribute__',\n",
              " '__getitem__',\n",
              " '__gt__',\n",
              " '__hash__',\n",
              " '__iadd__',\n",
              " '__imul__',\n",
              " '__init__',\n",
              " '__init_subclass__',\n",
              " '__iter__',\n",
              " '__le__',\n",
              " '__len__',\n",
              " '__lt__',\n",
              " '__mul__',\n",
              " '__ne__',\n",
              " '__new__',\n",
              " '__reduce__',\n",
              " '__reduce_ex__',\n",
              " '__repr__',\n",
              " '__reversed__',\n",
              " '__rmul__',\n",
              " '__setattr__',\n",
              " '__setitem__',\n",
              " '__sizeof__',\n",
              " '__str__',\n",
              " '__subclasshook__',\n",
              " 'append',\n",
              " 'clear',\n",
              " 'copy',\n",
              " 'count',\n",
              " 'extend',\n",
              " 'index',\n",
              " 'insert',\n",
              " 'pop',\n",
              " 'remove',\n",
              " 'reverse',\n",
              " 'sort']"
            ]
          },
          "metadata": {
            "tags": []
          },
          "execution_count": 19
        }
      ]
    },
    {
      "cell_type": "code",
      "metadata": {
        "id": "M70VY-ALGlgy",
        "outputId": "02243683-b2b1-424e-f4a8-74a6fcf23d29",
        "colab": {
          "base_uri": "https://localhost:8080/",
          "height": 34
        }
      },
      "source": [
        "lista1.insert(0, \"olá\")\n",
        "lista1"
      ],
      "execution_count": null,
      "outputs": [
        {
          "output_type": "execute_result",
          "data": {
            "text/plain": [
              "['olá']"
            ]
          },
          "metadata": {
            "tags": []
          },
          "execution_count": 20
        }
      ]
    },
    {
      "cell_type": "code",
      "metadata": {
        "id": "cQuLi91il-fd",
        "outputId": "fd4d6191-0939-4cf3-8e06-0f39521cb3af",
        "colab": {
          "base_uri": "https://localhost:8080/",
          "height": 34
        }
      },
      "source": [
        "# TUPLAS\n",
        "tup = (1,2,3)\n",
        "#dir(tup)\n",
        "tup.count(4)"
      ],
      "execution_count": null,
      "outputs": [
        {
          "output_type": "execute_result",
          "data": {
            "text/plain": [
              "0"
            ]
          },
          "metadata": {
            "tags": []
          },
          "execution_count": 25
        }
      ]
    },
    {
      "cell_type": "code",
      "metadata": {
        "id": "hn8I4j62mNkp",
        "outputId": "2739c5d8-cabe-4f04-80a8-2897d9f7f9f8",
        "colab": {
          "base_uri": "https://localhost:8080/",
          "height": 952
        }
      },
      "source": [
        "# SETS\n",
        "set1 = ({1,2,3})\n",
        "set2 = set([1,2,3])\n",
        "dir(set1)\n",
        "set1.pop()"
      ],
      "execution_count": null,
      "outputs": [
        {
          "output_type": "execute_result",
          "data": {
            "text/plain": [
              "['__and__',\n",
              " '__class__',\n",
              " '__contains__',\n",
              " '__delattr__',\n",
              " '__dir__',\n",
              " '__doc__',\n",
              " '__eq__',\n",
              " '__format__',\n",
              " '__ge__',\n",
              " '__getattribute__',\n",
              " '__gt__',\n",
              " '__hash__',\n",
              " '__iand__',\n",
              " '__init__',\n",
              " '__init_subclass__',\n",
              " '__ior__',\n",
              " '__isub__',\n",
              " '__iter__',\n",
              " '__ixor__',\n",
              " '__le__',\n",
              " '__len__',\n",
              " '__lt__',\n",
              " '__ne__',\n",
              " '__new__',\n",
              " '__or__',\n",
              " '__rand__',\n",
              " '__reduce__',\n",
              " '__reduce_ex__',\n",
              " '__repr__',\n",
              " '__ror__',\n",
              " '__rsub__',\n",
              " '__rxor__',\n",
              " '__setattr__',\n",
              " '__sizeof__',\n",
              " '__str__',\n",
              " '__sub__',\n",
              " '__subclasshook__',\n",
              " '__xor__',\n",
              " 'add',\n",
              " 'clear',\n",
              " 'copy',\n",
              " 'difference',\n",
              " 'difference_update',\n",
              " 'discard',\n",
              " 'intersection',\n",
              " 'intersection_update',\n",
              " 'isdisjoint',\n",
              " 'issubset',\n",
              " 'issuperset',\n",
              " 'pop',\n",
              " 'remove',\n",
              " 'symmetric_difference',\n",
              " 'symmetric_difference_update',\n",
              " 'union',\n",
              " 'update']"
            ]
          },
          "metadata": {
            "tags": []
          },
          "execution_count": 28
        }
      ]
    },
    {
      "cell_type": "code",
      "metadata": {
        "id": "WwCo0_JtmP-u",
        "outputId": "6d315f4d-d0e3-4a6a-b6af-19deb1f2fd24",
        "colab": {
          "base_uri": "https://localhost:8080/",
          "height": 34
        }
      },
      "source": [
        "# DICIONARIOS\n",
        "pessoas = {\n",
        "    \"name\": \"joao\",\n",
        "    \"age\": 39, \n",
        "    \"skills\": ['python', 'r', 'java']\n",
        "}\n",
        "pessoas.values()"
      ],
      "execution_count": null,
      "outputs": [
        {
          "output_type": "execute_result",
          "data": {
            "text/plain": [
              "dict_values(['joao', 39, ['python', 'r', 'java']])"
            ]
          },
          "metadata": {
            "tags": []
          },
          "execution_count": 34
        }
      ]
    },
    {
      "cell_type": "markdown",
      "metadata": {
        "id": "xQCkO867cpu1"
      },
      "source": [
        "## Condicionais"
      ]
    },
    {
      "cell_type": "code",
      "metadata": {
        "id": "1dccn0dLcsG2",
        "outputId": "ddf6aeee-a5bf-475d-fe46-91a80e55dec6",
        "colab": {
          "base_uri": "https://localhost:8080/",
          "height": 34
        }
      },
      "source": [
        "# IF\n",
        "if 100 > 99:\n",
        "  print(\"100 é maior que 99!\")"
      ],
      "execution_count": null,
      "outputs": [
        {
          "output_type": "stream",
          "text": [
            "100 é maior que 99!\n"
          ],
          "name": "stdout"
        }
      ]
    },
    {
      "cell_type": "code",
      "metadata": {
        "id": "k56YVoZIddjj",
        "outputId": "fa1c321b-1099-4c8f-884f-9bf3e5f9b8b8",
        "colab": {
          "base_uri": "https://localhost:8080/",
          "height": 34
        }
      },
      "source": [
        "# IF, ELSE\n",
        "if 100 == 99:\n",
        "  print(\"100 e 99 são iguais!\")\n",
        "else:\n",
        "  print(\"100 é diferente de 99\")\n"
      ],
      "execution_count": null,
      "outputs": [
        {
          "output_type": "stream",
          "text": [
            "100 é diferente de 99\n"
          ],
          "name": "stdout"
        }
      ]
    },
    {
      "cell_type": "code",
      "metadata": {
        "id": "VM88dXCpdfpa",
        "outputId": "a15731e3-d9f1-4a79-f52c-3ef1ee284566",
        "colab": {
          "base_uri": "https://localhost:8080/",
          "height": 128
        }
      },
      "source": [
        "# IF, ELIF, ELSE\n",
        "if 100 == 99:\n",
        "  print(\"100 e 99 são iguais!\")\n",
        "elif 100 > 99:\n",
        "  print(\"100 é maior que 99!\")\n",
        "else:\n",
        "  print(\"100 é menor que 99!\")"
      ],
      "execution_count": null,
      "outputs": [
        {
          "output_type": "error",
          "ename": "SyntaxError",
          "evalue": "ignored",
          "traceback": [
            "\u001b[0;36m  File \u001b[0;32m\"<ipython-input-12-6f351b103af1>\"\u001b[0;36m, line \u001b[0;32m5\u001b[0m\n\u001b[0;31m    maior que 99print(\"100 é!\")\u001b[0m\n\u001b[0m            ^\u001b[0m\n\u001b[0;31mSyntaxError\u001b[0m\u001b[0;31m:\u001b[0m invalid syntax\n"
          ]
        }
      ]
    },
    {
      "cell_type": "markdown",
      "metadata": {
        "id": "VHKvcGePp2jv"
      },
      "source": [
        "6. Faça um Programa que peça dois números e imprima o maior deles.\n",
        "7. Faça um Programa que peça um valor e mostre na tela se o valor é positivo ou negativo.\n",
        "8. Faça um Programa que verifique se uma letra digitada é \"F\" ou \"M\". Conforme a letra escrever: F - Feminino, M - Masculino, Sexo Inválido.\n",
        "9. Faça um Programa que verifique se uma letra digitada é vogal ou consoante.\n",
        "10. Faça um programa para a leitura de duas notas parciais de um aluno. O programa deve calcular a média alcançada por aluno e apresentar:\n",
        "* A mensagem \"Aprovado\", se a média alcançada for maior ou igual a sete;\n",
        "* A mensagem \"Reprovado\", se a média for menor do que sete;\n",
        "* A mensagem \"Aprovado com Distinção\", se a média for igual a dez."
      ]
    },
    {
      "cell_type": "code",
      "metadata": {
        "id": "XJamf_Q3Go4u"
      },
      "source": [
        "#Programa que peça dois números e imprima o maior deles.\n",
        "num1 = int(input(\"Digite Numero 1:\"))\n",
        "num2 = int(input(\"Digite Numero 2:\"))\n",
        "if num1 > num2: \n",
        "    print (\"num 1 é maior que num2\")\n",
        "else:\n",
        "    print (\"num 2 é maior que num2\")"
      ],
      "execution_count": null,
      "outputs": []
    },
    {
      "cell_type": "code",
      "metadata": {
        "id": "UFE9IqgYJcOQ",
        "outputId": "3948b2bb-333f-4f33-f1fe-829437a2734e",
        "colab": {
          "base_uri": "https://localhost:8080/",
          "height": 50
        }
      },
      "source": [
        "num1 = int(input(''))\n",
        "if num1 > 0:\n",
        "  print(\"O número é positivo!\")\n",
        "else:\n",
        "  print(\"O número é negativo\")"
      ],
      "execution_count": null,
      "outputs": [
        {
          "output_type": "stream",
          "text": [
            "134\n",
            "O número é positivo!\n"
          ],
          "name": "stdout"
        }
      ]
    },
    {
      "cell_type": "code",
      "metadata": {
        "id": "8qn8vHK5Kyq6"
      },
      "source": [
        ""
      ],
      "execution_count": null,
      "outputs": []
    },
    {
      "cell_type": "code",
      "metadata": {
        "id": "TWLu_VQiJ5RR",
        "outputId": "9f1a9bb0-55ff-4d5c-80f8-821399410e00",
        "colab": {
          "base_uri": "https://localhost:8080/",
          "height": 50
        }
      },
      "source": [
        "#Faça um Programa que verifique se uma letra digitada é \"F\" ou \"M\". Conforme a letra escrever: F - Feminino, M - Masculino, Sexo Inválido.\n",
        "sexo = str(input(\"Digite o Sexo 1:\"))\n",
        "if sexo == \"f\":\n",
        "  print(\"sexo informado - Feminino\")\n",
        "elif sexo == \"m\":\n",
        "  print(\"sexo informado - Masculino\") \n",
        "else: \n",
        "   print(\"Sexo informado Inválido\")"
      ],
      "execution_count": null,
      "outputs": [
        {
          "output_type": "stream",
          "text": [
            "Digite o Sexo 1:g\n",
            "Sexo informado Inválido\n"
          ],
          "name": "stdout"
        }
      ]
    },
    {
      "cell_type": "code",
      "metadata": {
        "id": "GtssXezDLzCp",
        "outputId": "68d70126-31ce-4daa-fa8f-58768e2856ef",
        "colab": {
          "base_uri": "https://localhost:8080/",
          "height": 50
        }
      },
      "source": [
        "#Faça um Programa que verifique se uma letra digitada é vogal ou consoante.\n",
        "letra= str(input(\"Digite uma letra:\"))\n",
        "if letra == \"a\" or letra == \"e\" or letra == \"i\" or letra == \"o\" or letra == \"u\":\n",
        "  print(\"a letra informada é vogal\")\n",
        "else: \n",
        "   print(\"a letra informada é consoante\")"
      ],
      "execution_count": null,
      "outputs": [
        {
          "output_type": "stream",
          "text": [
            "Digite uma letra:b\n",
            "a letra informada é consoante\n"
          ],
          "name": "stdout"
        }
      ]
    },
    {
      "cell_type": "code",
      "metadata": {
        "id": "hZXi3Z2zNRoV"
      },
      "source": [
        "#Faça um programa para a leitura de duas notas parciais de um aluno. O programa deve calcular a média alcançada por aluno e apresentar:\n",
        "nota1= int(input(\"Digite Nota 1: \"))\n",
        "nota2= int(input(\"Digite Nota 2: \"))\n",
        "media = (nota1 + nota2)/2\n",
        "print (\"media da nota:\" )\n",
        "print (media)"
      ],
      "execution_count": null,
      "outputs": []
    },
    {
      "cell_type": "code",
      "metadata": {
        "id": "TMwyx_4fQyo3",
        "outputId": "71da1981-3cf9-4136-cdae-9b5aca36826f",
        "colab": {
          "base_uri": "https://localhost:8080/",
          "height": 101
        }
      },
      "source": [
        "#Faça um programa para a leitura de duas notas parciais de um aluno. O programa deve calcular a média alcançada por aluno e apresentar:\n",
        "#A mensagem \"Aprovado\", se a média alcançada for maior ou igual a sete;\n",
        "#A mensagem \"Reprovado\", se a média for menor do que sete;\n",
        "#A mensagem \"Aprovado com Distinção\", se a média for igual a dez.\n",
        "nota1= int(input(\"Digite Nota 1: \"))\n",
        "nota2= int(input(\"Digite Nota 2: \"))\n",
        "media = float (nota1 + nota2)/2\n",
        "print (\"media da nota:\" )\n",
        "print (media)\n",
        "if media == 10:\n",
        "  print (\"Aprovado com Distinção\" )\n",
        "elif media <= 6:\n",
        "  print (\"Aluno Reprovado\" )\n",
        "else:\n",
        "          print (\"Aluno Aprovado\" )"
      ],
      "execution_count": null,
      "outputs": [
        {
          "output_type": "stream",
          "text": [
            "Digite Nota 1: 7\n",
            "Digite Nota 2: 8\n",
            "media da nota:\n",
            "7.5\n",
            "Aluno Aprovado\n"
          ],
          "name": "stdout"
        }
      ]
    },
    {
      "cell_type": "markdown",
      "metadata": {
        "id": "fc85ML8bcsbR"
      },
      "source": [
        "## Repetição"
      ]
    },
    {
      "cell_type": "code",
      "metadata": {
        "id": "Nfb90GWEcuRU",
        "outputId": "2611f426-8a1d-4010-8fc4-9ec3a10958d8",
        "colab": {
          "base_uri": "https://localhost:8080/",
          "height": 118
        }
      },
      "source": [
        "# FOR range\n",
        "for x in range(0,18,3):\n",
        "  print(x)"
      ],
      "execution_count": null,
      "outputs": [
        {
          "output_type": "stream",
          "text": [
            "0\n",
            "3\n",
            "6\n",
            "9\n",
            "12\n",
            "15\n"
          ],
          "name": "stdout"
        }
      ]
    },
    {
      "cell_type": "code",
      "metadata": {
        "id": "-xotKE8ShlRy",
        "outputId": "1185657c-9b14-4d79-b78c-10fadfe0b259",
        "colab": {
          "base_uri": "https://localhost:8080/",
          "height": 134
        }
      },
      "source": [
        "# FOR\n",
        "palavra = \"PALAVRA\"\n",
        "for letra in palavra:\n",
        "  print(letra)"
      ],
      "execution_count": null,
      "outputs": [
        {
          "output_type": "stream",
          "text": [
            "P\n",
            "A\n",
            "L\n",
            "A\n",
            "V\n",
            "R\n",
            "A\n"
          ],
          "name": "stdout"
        }
      ]
    },
    {
      "cell_type": "code",
      "metadata": {
        "id": "a4X4aY2Xhem0"
      },
      "source": [
        "# WHILE\n",
        "num = 0\n",
        "while True:\n",
        "  print(num)\n",
        "  num   = num + 1"
      ],
      "execution_count": null,
      "outputs": []
    },
    {
      "cell_type": "markdown",
      "metadata": {
        "id": "1YF9GPXSqDMY"
      },
      "source": [
        "11. Faça um programa que peça uma nota, entre zero e dez. Mostre uma mensagem caso o valor seja inválido e continue pedindo até que o usuário informe um valor válido.\n",
        "12. Faça um programa que leia um nome de usuário e a sua senha e não aceite a senha igual ao nome do usuário, mostrando uma mensagem de erro e voltando a pedir as informações.\n",
        "13. Faça um programa que leia e valide as seguintes informações:\n",
        "* Nome: maior que 3 caracteres;\n",
        "* Idade: entre 0 e 150;\n",
        "* Salário: maior que zero;\n",
        "* Sexo: 'f' ou 'm';\n",
        "* Estado Civil: 's', 'c', 'v', 'd';\n",
        "14. Supondo que a população de um país A seja da ordem de 80000 habitantes com uma taxa anual de crescimento de 3% e que a população de B seja 200000 habitantes com uma taxa de crescimento de 1.5%. Faça um programa que calcule e escreva o número de anos necessários para que a população do país A ultrapasse ou iguale a população do país B, mantidas as taxas de crescimento.\n",
        "15. Altere o programa anterior permitindo ao usuário informar as populações e as taxas de crescimento iniciais. Valide a entrada e permita repetir a operação."
      ]
    },
    {
      "cell_type": "code",
      "metadata": {
        "id": "o7sB83GZL9q9",
        "outputId": "9e42c0a3-f34e-4f88-f22f-6f19a97fccfb",
        "colab": {
          "base_uri": "https://localhost:8080/",
          "height": 101
        }
      },
      "source": [
        "num1 = int(input(\"Digite um valor entre 0 e 10: \"))\n",
        "while num1 < 0 or num1 > 10:\n",
        "  print(\"Valor inválido!\")\n",
        "  num1 = int(input(\"Digite um valor entre 0 e 10: \"))"
      ],
      "execution_count": null,
      "outputs": [
        {
          "output_type": "stream",
          "text": [
            "Digite um valor entre 0 e 10: 11\n",
            "Valor inválido!\n",
            "Digite um valor entre 0 e 10: 12\n",
            "Valor inválido!\n",
            "Digite um valor entre 0 e 10: 10\n"
          ],
          "name": "stdout"
        }
      ]
    },
    {
      "cell_type": "code",
      "metadata": {
        "id": "nv4rVa1LfbpI"
      },
      "source": [
        "#Faça um programa que leia um nome de usuário e a sua senha e não aceite a senha igual ao nome do usuário, \n",
        "#mostrando uma mensagem de erro e voltando a pedir as informações.\n",
        "nom1 = str(input(\"Digite o seu nome: \"))\n",
        "nom2 = str(input(\"Digite a senha: \"))\n",
        "while nom1 == nom2:\n",
        "  print(\"Nome e senha iguais!\")\n",
        "#  nom1 = int(input(\"Digite Nome e senha: \"))"
      ],
      "execution_count": null,
      "outputs": []
    },
    {
      "cell_type": "code",
      "metadata": {
        "id": "r91DLBQ1jKAh"
      },
      "source": [
        ""
      ],
      "execution_count": null,
      "outputs": []
    },
    {
      "cell_type": "code",
      "metadata": {
        "id": "eBh9lR4miJEx"
      },
      "source": [
        "#Faça um programa que leia e valide as seguintes informações:\n",
        "#Nome: maior que 3 caracteres;\n",
        "#Idade: entre 0 e 150;\n",
        "#Salário: maior que zero;\n",
        "#Sexo: 'f' ou 'm';\n",
        "#Estado Civil: 's', 'c', 'v', 'd';\n",
        "nom1 = str(input(\"Digite o seu nome: \"))\n",
        "ocorrencias = nom1\n",
        "#for ocorrencias in nom1:\n",
        "#  if ocorrencias > 3:\n",
        "#    print (\"Erro de quantidade de palavras\" )\n",
        "idade = int(input (\"Idade: \")) \n",
        "if idade < 0 or idade > 150:\n",
        "  print (\"Erro de idade\" )\n",
        "salario = float(input(\"Salário: \"))\n",
        "if salario < 1:\n",
        "  print (\"Erro de salario\" )\n",
        "sexo = str(input('sexo: '))\n",
        "if sexo != \"f\" and sexo != \"m\" and sexo != \"F\" and sexo != \"M\":\n",
        " print (\"Erro de sexo\" )\n",
        "estcivil = str(input('estado civil: '))\n",
        "if estcivil != \"s\" and estcivil != \"c\" and estcivil != \"v\" and estcivil != \"d\":\n",
        "  print (\"Erro de Estado Civil\" )\n"
      ],
      "execution_count": null,
      "outputs": []
    },
    {
      "cell_type": "code",
      "metadata": {
        "id": "08lW-nm_aEz9"
      },
      "source": [
        "#Supondo que a população de um país A seja da ordem de 80000 habitantes com uma taxa anual de crescimento de 3% \n",
        "#e que a população de B seja 200000 habitantes com uma taxa de crescimento de 1.5%. Faça um programa que calcule \n",
        "#e escreva o número de anos necessários para que a população do país A ultrapasse ou iguale a população do país B,\n",
        "# mantidas as taxas de crescimento.\n",
        "popA = float (80000)\n",
        "taxaA = float (0.03)\n",
        "popB = float (200000)\n",
        "taxaB = float (0.015)\n",
        "popG = 0\n",
        "contador = 0\n",
        "print (\"população POPA = \" , popA)\n",
        "print (\"população POPB = \" , popB)\n",
        "#\n",
        "while (popG < 200000):\n",
        "      popA= (80000 * 0.03) \n",
        "      popG = popA + popG\n",
        "      print(popG)\n",
        "      contador = contador + 1\n",
        "else:\n",
        "      print (\"quantidade de anos para superar POPA\" , contador)\n",
        "      print(\"O loop while foi encerrado com sucesso!\")"
      ],
      "execution_count": null,
      "outputs": []
    },
    {
      "cell_type": "code",
      "metadata": {
        "id": "74Hne1ZSl-UM",
        "outputId": "16eb16fa-45d2-4c5b-fac3-3a4b16cadec6",
        "colab": {
          "base_uri": "https://localhost:8080/",
          "height": 185
        }
      },
      "source": [
        "#Altere o programa anterior permitindo ao usuário informar as populações e as taxas de crescimento iniciais. \n",
        "#Valide a entrada e permita repetir a operação.\n",
        "#popA = float (80000)\n",
        "taxaA = float (0.00)\n",
        "#popB = float (200000)\n",
        "taxaB = float (0.00)\n",
        "popG = 0\n",
        "contador = 0\n",
        "popA = int(input (\"População A: \")) \n",
        "popB = int(input (\"População B: \")) \n",
        "print (\"população POPA = \" , popA)\n",
        "print (\"população POPB = \" , popB)\n",
        "taxaA = float (input(\"Informa Taxa de Crescimento da PopA\" ))\n",
        "taxaB = float (input(\"Informa Taxa de Crescimento da PopB\" ))\n",
        "if taxaA < taxaB:\n",
        "          print('Digite corretamente')\n",
        "else:\n",
        "  while (popG < 200000):\n",
        "      popA= (80000 * taxaA) \n",
        "      popG = popA + popG\n",
        "      print(popG)\n",
        "      contador = contador + 1\n",
        "  else:\n",
        "      print (\"quantidade de anos para superar POPA\" , contador)\n",
        "      print(\"O loop while foi encerrado com sucesso!\")"
      ],
      "execution_count": null,
      "outputs": [
        {
          "output_type": "stream",
          "text": [
            "População A: 15000\n",
            "População B: 100000\n",
            "população POPA =  15000\n",
            "população POPB =  100000\n",
            "Informa Taxa de Crescimento da PopA1.5\n",
            "Informa Taxa de Crescimento da PopB0.5\n",
            "120000.0\n",
            "240000.0\n",
            "quantidade de anos para superar POPA 2\n",
            "O loop while foi encerrado com sucesso!\n"
          ],
          "name": "stdout"
        }
      ]
    },
    {
      "cell_type": "code",
      "metadata": {
        "id": "4MSb6v4btOqV",
        "outputId": "385178a4-74e7-4297-b928-90c91aa18005",
        "colab": {
          "base_uri": "https://localhost:8080/",
          "height": 101
        }
      },
      "source": [
        "vet = []\n",
        "soma = 0\n",
        "potencia = 3\n",
        "for i in range(4):\n",
        "     ver = int(input('Digite UM numero entre 0 e 1: '))\n",
        "     if ver >= 2:\n",
        "          print('Digite corretamente')\n",
        "          break\n",
        "     else:\n",
        "         vet.append(ver)\n",
        "         soma = soma + (vet[i] * (2 ** potencia))\n",
        "         potencia = potencia - 1\n",
        "print('Codigo binario convertido em decimal é: ', potencia)"
      ],
      "execution_count": null,
      "outputs": [
        {
          "output_type": "stream",
          "text": [
            "Digite UM numero entre 0 e 1: 1\n",
            "Digite UM numero entre 0 e 1: 0\n",
            "Digite UM numero entre 0 e 1: 3\n",
            "Digite corretamente\n",
            "Codigo binario convertido em decimal é:  1\n"
          ],
          "name": "stdout"
        }
      ]
    },
    {
      "cell_type": "code",
      "metadata": {
        "id": "DYQ9rZ2vibvM",
        "outputId": "1a400666-5b46-4856-86ce-57bc5a4a7a8c",
        "colab": {
          "base_uri": "https://localhost:8080/",
          "height": 118
        }
      },
      "source": [
        "contador = 0\n",
        "while (contador < 5):\n",
        "      print(contador)\n",
        "      contador = contador + 1\n",
        "else:\n",
        "      print(\"O loop while foi encerrado com sucesso!\")"
      ],
      "execution_count": null,
      "outputs": [
        {
          "output_type": "stream",
          "text": [
            "0\n",
            "1\n",
            "2\n",
            "3\n",
            "4\n",
            "O loop while foi encerrado com sucesso!\n"
          ],
          "name": "stdout"
        }
      ]
    },
    {
      "cell_type": "markdown",
      "metadata": {
        "id": "lm-dZvAocvaa"
      },
      "source": [
        "## Funções"
      ]
    },
    {
      "cell_type": "code",
      "metadata": {
        "id": "O8-E-MsarYtn"
      },
      "source": [
        "def RaizQuadrada(x,y):\n",
        "  return x**y"
      ],
      "execution_count": null,
      "outputs": []
    },
    {
      "cell_type": "code",
      "metadata": {
        "id": "HFN2OtbwrijY",
        "outputId": "08d24763-5fb7-47de-9a7e-53d8674c8ff0",
        "colab": {
          "base_uri": "https://localhost:8080/",
          "height": 34
        }
      },
      "source": [
        "RaizQuadrada(3,3)"
      ],
      "execution_count": null,
      "outputs": [
        {
          "output_type": "execute_result",
          "data": {
            "text/plain": [
              "27"
            ]
          },
          "metadata": {
            "tags": []
          },
          "execution_count": 4
        }
      ]
    },
    {
      "cell_type": "code",
      "metadata": {
        "id": "TCnHj1XvrnXN"
      },
      "source": [
        "def Maiuscula(x):\n",
        "  return x.upper()"
      ],
      "execution_count": null,
      "outputs": []
    },
    {
      "cell_type": "code",
      "metadata": {
        "id": "nCUM3wHIruas",
        "outputId": "edf6a3ca-9448-4880-be80-96568f813ff3",
        "colab": {
          "base_uri": "https://localhost:8080/",
          "height": 35
        }
      },
      "source": [
        "Maiuscula(\"oi\")"
      ],
      "execution_count": null,
      "outputs": [
        {
          "output_type": "execute_result",
          "data": {
            "application/vnd.google.colaboratory.intrinsic+json": {
              "type": "string"
            },
            "text/plain": [
              "'OI'"
            ]
          },
          "metadata": {
            "tags": []
          },
          "execution_count": 6
        }
      ]
    },
    {
      "cell_type": "markdown",
      "metadata": {
        "id": "rNFqcEWAqR33"
      },
      "source": [
        "16. Faça um programa, com uma função que necessite de três argumentos, e que forneça a soma desses três argumentos.\n",
        "17. Faça um programa, com uma função que necessite de um argumento. A função retorna o valor de caractere ‘P’, se seu argumento for positivo, e ‘N’, se seu argumento for zero ou negativo.\n",
        "18. Faça um programa com uma função chamada somaImposto. A função possui dois parâmetros formais: taxaImposto, que é a quantia de imposto sobre vendas expressa em porcentagem e custo, que é o custo de um item antes do imposto. A função “altera” o valor de custo para incluir o imposto sobre vendas."
      ]
    },
    {
      "cell_type": "code",
      "metadata": {
        "id": "zb4DY0ttNvEs",
        "outputId": "bd6399a8-3fae-4906-82ae-9989a3b9e6bb",
        "colab": {
          "base_uri": "https://localhost:8080/",
          "height": 34
        }
      },
      "source": [
        "def Func(a,b,c):\n",
        "  return a+b+c \n",
        "\n",
        "Func(-12,-134,128)"
      ],
      "execution_count": null,
      "outputs": [
        {
          "output_type": "execute_result",
          "data": {
            "text/plain": [
              "-18"
            ]
          },
          "metadata": {
            "tags": []
          },
          "execution_count": 7
        }
      ]
    },
    {
      "cell_type": "code",
      "metadata": {
        "id": "a9rnC4tWnIxb",
        "outputId": "abaa5c73-358e-4068-897e-b23696907f3f",
        "colab": {
          "base_uri": "https://localhost:8080/",
          "height": 50
        }
      },
      "source": [
        "#Faça um programa, com uma função que necessite de um argumento. A função retorna o valor de caractere ‘P’, \n",
        "#se seu argumento for positivo, e ‘N’, se seu argumento for zero ou negativo.\n",
        "valor = 0\n",
        "def soma (a, b):\n",
        "  return a+b\n",
        "valor = soma (-12,134)\n",
        "print (valor)\n",
        "if valor > 0:\n",
        "   print (\"o valor é P = positivo\")\n",
        "else:\n",
        "   print (\"o valor é N = negativo\")"
      ],
      "execution_count": null,
      "outputs": [
        {
          "output_type": "stream",
          "text": [
            "122\n",
            "o valor é P = positivo\n"
          ],
          "name": "stdout"
        }
      ]
    },
    {
      "cell_type": "code",
      "metadata": {
        "id": "EaWr6GZit2xf",
        "outputId": "64afddef-8e9a-41af-a9e9-d060ab0c4754",
        "colab": {
          "base_uri": "https://localhost:8080/",
          "height": 34
        }
      },
      "source": [
        "#Faça um programa com uma função chamada somaImposto. A função possui dois parâmetros formais: taxaImposto, \n",
        "#que é a quantia de imposto sobre vendas expressa em porcentagem e custo, que é o custo de um item antes do imposto. \n",
        "#A função “altera” o valor de custo para incluir o imposto sobre vendas.\n",
        "def multiplica (taxaImposto, custo):\n",
        "  return taxaImposto**custo\n",
        "multiplica (0.5,134)\n"
      ],
      "execution_count": null,
      "outputs": [
        {
          "output_type": "execute_result",
          "data": {
            "text/plain": [
              "4.591774807899561e-41"
            ]
          },
          "metadata": {
            "tags": []
          },
          "execution_count": 62
        }
      ]
    },
    {
      "cell_type": "markdown",
      "metadata": {
        "id": "0_z3UtuaXNHU"
      },
      "source": [
        "# JOGO DA FORCA!"
      ]
    },
    {
      "cell_type": "code",
      "metadata": {
        "id": "aFCi6wCIXQfh"
      },
      "source": [
        "import random\n",
        "\n",
        "def get_word():\n",
        "    lista_palavras = ['gata', 'cão', 'lagarto', 'centopéia', 'boi', 'leão', 'leopardo', 'anta']\n",
        "    word = random.choice(lista_palavras)\n",
        "    return word.upper()"
      ],
      "execution_count": null,
      "outputs": []
    },
    {
      "cell_type": "code",
      "metadata": {
        "id": "2hMpG5Jobv0t"
      },
      "source": [
        "def play(word):\n",
        "    word_completion = \"_\" * len(word) \n",
        "    guessed = False\n",
        "    guessed_letters = []\n",
        "    guessed_words = []\n",
        "    tries = 6\n",
        "    print(f\"JOGO DA FORCA!\\nDica: {len(word)} letras!\")\n",
        "    print(display_hangman(tries))\n",
        "    print(word_completion)\n",
        "    print(\"\\n\")\n",
        "    \n",
        "    while not guessed and tries > 0:\n",
        "        guess = input(\"Adivinhe uma letra ou palavra: \").upper()\n",
        "        if len(guess) == 1 and guess.isalpha():\n",
        "            if guess in guessed_letters:\n",
        "                print(\"Você já tentou \", guess)\n",
        "            elif guess not in word:\n",
        "                print(guess, \"Não.\")\n",
        "                tries -= 1\n",
        "                guessed_letters.append(guess)\n",
        "            else:\n",
        "                print(guess, \"está na palavra!\")\n",
        "                guessed_letters.append(guess)\n",
        "                word_as_list = list(word_completion)\n",
        "                indices = [i for i, letter in enumerate(word) if letter == guess]\n",
        "                for index in indices:\n",
        "                    word_as_list[index] = guess\n",
        "                word_completion = \"\".join(word_as_list)\n",
        "                if \"_\" not in word_completion:\n",
        "                    guessed = True\n",
        "        elif len(guess) == len(word) and guess.isalpha():\n",
        "            if guess in guessed_words:\n",
        "                print(\"Você já tentou a palavra\", guess)\n",
        "            elif guess != word:\n",
        "                print(guess, \"não é a palavra.\")\n",
        "                tries -= 1\n",
        "                guessed_words.append(guess)\n",
        "            else:\n",
        "                guessed = True\n",
        "                word_completion = word\n",
        "        else:\n",
        "            print(\"Inválido.\")\n",
        "        print(display_hangman(tries))\n",
        "        print(word_completion)\n",
        "        print(\"\\n\")\n",
        "    if guessed:\n",
        "        print(\"Parabéns, você adivinhou a palavra! Você venceu!\")\n",
        "    else:\n",
        "        print(\"Você perdeu!. A palavra era \" + word + \".\")"
      ],
      "execution_count": null,
      "outputs": []
    },
    {
      "cell_type": "code",
      "metadata": {
        "id": "X68nQMlkbyW7"
      },
      "source": [
        "def display_hangman(tries):\n",
        "    stages = [  # cabeça, tronco e braços e pernas: morte.\n",
        "                \"\"\"\n",
        "                   --------\n",
        "                   |      |\n",
        "                   |      O\n",
        "                   |     \\|/\n",
        "                   |      |\n",
        "                   |     / \\\n",
        "                   -\n",
        "                \"\"\",\n",
        "                # cabeça, tronco e braços, perna\n",
        "                \"\"\"\n",
        "                   --------\n",
        "                   |      |\n",
        "                   |      O\n",
        "                   |     \\|/\n",
        "                   |      |\n",
        "                   |     / \n",
        "                   -\n",
        "                \"\"\",\n",
        "                # cabeça, tronco e braços\n",
        "                \"\"\"\n",
        "                   --------\n",
        "                   |      |\n",
        "                   |      O\n",
        "                   |     \\|/\n",
        "                   |      |\n",
        "                   |      \n",
        "                   -\n",
        "                \"\"\",\n",
        "                # cabeça, tronco e braço\n",
        "                \"\"\"\n",
        "                   --------\n",
        "                   |      |\n",
        "                   |      O\n",
        "                   |     \\|\n",
        "                   |      |\n",
        "                   |     \n",
        "                   -\n",
        "                \"\"\",\n",
        "                # cabeça e tronco\n",
        "                \"\"\"\n",
        "                   --------\n",
        "                   |      |\n",
        "                   |      O\n",
        "                   |      |\n",
        "                   |      |\n",
        "                   |     \n",
        "                   -\n",
        "                \"\"\",\n",
        "                # cabeça\n",
        "                \"\"\"\n",
        "                   --------\n",
        "                   |      |\n",
        "                   |      O\n",
        "                   |    \n",
        "                   |      \n",
        "                   |     \n",
        "                   -\n",
        "                \"\"\",\n",
        "                # vazio\n",
        "                \"\"\"\n",
        "                   --------\n",
        "                   |      |\n",
        "                   |      \n",
        "                   |    \n",
        "                   |      \n",
        "                   |     \n",
        "                   -\n",
        "                \"\"\"\n",
        "    ]\n",
        "    return stages[tries]"
      ],
      "execution_count": null,
      "outputs": []
    },
    {
      "cell_type": "code",
      "metadata": {
        "id": "QrIFCFiib1pZ"
      },
      "source": [
        "def main():\n",
        "    word = get_word()\n",
        "    play(word)\n",
        "    while input(\"Jogar de novo? (S/N) \").upper() == \"S\":\n",
        "        word = get_word()\n",
        "        play(word)\n",
        "\n",
        "\n",
        "if __name__ == \"__main__\":\n",
        "    main()"
      ],
      "execution_count": null,
      "outputs": []
    },
    {
      "cell_type": "markdown",
      "metadata": {
        "id": "r7PbK1Mm4xLo"
      },
      "source": [
        "# CHATBOT\n",
        "\n",
        "---\n",
        "https://chatterbot.readthedocs.io/en/stable/\n"
      ]
    },
    {
      "cell_type": "code",
      "metadata": {
        "id": "H4Up5PTN6E7H",
        "outputId": "202ac778-3a37-4d3b-eaf7-8c1f99d429bd",
        "colab": {
          "base_uri": "https://localhost:8080/",
          "height": 302
        }
      },
      "source": [
        "!pip install chatterbot\n",
        "!pip install chatterbot_corpus"
      ],
      "execution_count": null,
      "outputs": [
        {
          "output_type": "stream",
          "text": [
            "Collecting chatterbot\n",
            "\u001b[?25l  Downloading https://files.pythonhosted.org/packages/7c/21/85c2b114bd9dfabdd46ba58fc4519acdaed45d8c70898d40079e37a45e67/ChatterBot-1.0.8-py2.py3-none-any.whl (63kB)\n",
            "\r\u001b[K     |█████▏                          | 10kB 11.6MB/s eta 0:00:01\r\u001b[K     |██████████▎                     | 20kB 1.8MB/s eta 0:00:01\r\u001b[K     |███████████████▌                | 30kB 2.3MB/s eta 0:00:01\r\u001b[K     |████████████████████▋           | 40kB 2.6MB/s eta 0:00:01\r\u001b[K     |█████████████████████████▊      | 51kB 2.0MB/s eta 0:00:01\r\u001b[K     |███████████████████████████████ | 61kB 2.3MB/s eta 0:00:01\r\u001b[K     |████████████████████████████████| 71kB 2.2MB/s \n",
            "\u001b[?25hRequirement already satisfied: python-dateutil<2.9,>=2.8 in /usr/local/lib/python3.6/dist-packages (from chatterbot) (2.8.1)\n",
            "Requirement already satisfied: pytz in /usr/local/lib/python3.6/dist-packages (from chatterbot) (2018.9)\n",
            "Collecting mathparse<0.2,>=0.1\n",
            "  Downloading https://files.pythonhosted.org/packages/c3/e5/4910fb85950cb960fcf3f5aabe1c8e55f5c9201788a1c1302b570a7e1f84/mathparse-0.1.2-py3-none-any.whl\n",
            "Requirement already satisfied: sqlalchemy<1.4,>=1.3 in /usr/local/lib/python3.6/dist-packages (from chatterbot) (1.3.19)\n",
            "Requirement already satisfied: six>=1.5 in /usr/local/lib/python3.6/dist-packages (from python-dateutil<2.9,>=2.8->chatterbot) (1.15.0)\n",
            "Installing collected packages: mathparse, chatterbot\n",
            "Successfully installed chatterbot-1.0.8 mathparse-0.1.2\n",
            "Collecting chatterbot_corpus\n",
            "\u001b[?25l  Downloading https://files.pythonhosted.org/packages/ed/19/f8b41daf36fe4b0f43e283a820362ffdb2c1128600ab4ee187e84262fa4d/chatterbot_corpus-1.2.0-py2.py3-none-any.whl (117kB)\n",
            "\u001b[K     |████████████████████████████████| 122kB 2.6MB/s \n",
            "\u001b[?25hRequirement already satisfied: PyYAML<4.0,>=3.12 in /usr/local/lib/python3.6/dist-packages (from chatterbot_corpus) (3.13)\n",
            "Installing collected packages: chatterbot-corpus\n",
            "Successfully installed chatterbot-corpus-1.2.0\n"
          ],
          "name": "stdout"
        }
      ]
    },
    {
      "cell_type": "code",
      "metadata": {
        "id": "E7vqH-Qx5y54",
        "outputId": "54a13ff7-04e5-41a5-a8c2-bf6459c73c1f",
        "colab": {
          "base_uri": "https://localhost:8080/",
          "height": 168
        }
      },
      "source": [
        "from chatterbot import ChatBot\n",
        "from chatterbot.trainers import ListTrainer\n",
        "from chatterbot.trainers import ChatterBotCorpusTrainer\n",
        "\n",
        "bot = ChatBot('Pybot')\n",
        "bot = ChatBot(\n",
        "    'Pybot',\n",
        "    storage_adapter='chatterbot.storage.SQLStorageAdapter',\n",
        "    database_uri='sqlite:///database.sqlite3'\n",
        "    )\n",
        "    \n",
        "conversa = ListTrainer(bot)\n",
        "conversa.train([\n",
        "    'Oi?',\n",
        "    'Olá',\n",
        "    'Qual o seu nome?',\n",
        "    'Pybot',\n",
        "    'Prazer em te conhecer',\n",
        "    'Igualmente!',\n",
        "    'Tudo bem?',\n",
        "    'Muito bem e você?',\n",
        "    'Ótimo',\n",
        "    'Papo bom o nosso',\n",
        "    'kkk',\n",
        "    'adeus',\n",
        "    'Volte sempre!',\n",
        "])\n",
        "\n",
        "trainer = ChatterBotCorpusTrainer(bot)\n",
        "trainer.train('chatterbot.corpus.portuguese')"
      ],
      "execution_count": null,
      "outputs": [
        {
          "output_type": "stream",
          "text": [
            "List Trainer: [####################] 100%\n",
            "Training compliment.yml: [####################] 100%\n",
            "Training conversations.yml: [####################] 100%\n",
            "Training greetings.yml: [####################] 100%\n",
            "Training linguistic_knowledge.yml: [####################] 100%\n",
            "Training proverbs.yml: [####################] 100%\n",
            "Training suggestions.yml: [####################] 100%\n",
            "Training trivia.yml: [####################] 100%\n",
            "Training unilab.yml: [####################] 100%\n"
          ],
          "name": "stdout"
        }
      ]
    },
    {
      "cell_type": "code",
      "metadata": {
        "id": "vTfZSOKY6hAb"
      },
      "source": [
        "while True:\n",
        "  resposta = bot.get_response(input(\"Usuário: \"))\n",
        "  if float(resposta.confidence) > 0.5:\n",
        "      print(\"Ruggero\", resposta)\n",
        "  else:\n",
        "      print(\"Desculpe, eu não entendi!\")"
      ],
      "execution_count": null,
      "outputs": []
    },
    {
      "cell_type": "markdown",
      "metadata": {
        "id": "-6gQZVQe5ss8"
      },
      "source": [
        "# Dino Run Game\n",
        "![alt text](https://newkidsontheblogweb.files.wordpress.com/2019/02/dino-run.jpg?w=840)\n",
        "* 1 - Crie uma pasta em seu ambiente de desenvolvimento chamada \"dino\";\n",
        "* 2 - efetue o download da pasta \"sprites\" e insira dentro da pasta dino em https://drive.google.com/drive/folders/15YFgZjHsVS6xfzH4gBduvZxarkukwVbw?usp=sharing ;\n",
        "* 3 - Crie o arquivo main.py e insira todo o código abaixo;"
      ]
    },
    {
      "cell_type": "code",
      "metadata": {
        "id": "ub7Nf-4B541q"
      },
      "source": [
        "import os\n",
        "import sys\n",
        "import pygame\n",
        "import random\n",
        "from pygame import *\n",
        "\n",
        "''' \n",
        "Instanciamos aqui os padrões pygame dos elementos da tela e aúdio\n",
        "'''\n",
        "\n",
        "pygame.init()\n",
        "\n",
        "scr_size = (width,height) = (600,150)\n",
        "FPS = 60\n",
        "gravity = 0.6\n",
        "\n",
        "black = (0,0,0)\n",
        "white = (255,255,255)\n",
        "background_col = (235,235,235)\n",
        "\n",
        "high_score = 0\n",
        "\n",
        "screen = pygame.display.set_mode(scr_size)\n",
        "clock = pygame.time.Clock()\n",
        "pygame.display.set_caption(\"Dino Run Game \")\n",
        "\n",
        "jump_sound = pygame.mixer.Sound('sprites/jump.wav')\n",
        "die_sound = pygame.mixer.Sound('sprites/die.wav')\n",
        "checkPoint_sound = pygame.mixer.Sound('sprites/checkPoint.wav')\n",
        "\n",
        "''' \n",
        "Funções para carregamento das imagens de \"sprites\"\n",
        "'''\n",
        "def load_image(\n",
        "    name,\n",
        "    sizex=-1,\n",
        "    sizey=-1,\n",
        "    colorkey=None,\n",
        "    ):\n",
        "\n",
        "    fullname = os.path.join('sprites', name)\n",
        "    image = pygame.image.load(fullname)\n",
        "    image = image.convert()\n",
        "    if colorkey is not None:\n",
        "        if colorkey == -1:\n",
        "            colorkey = image.get_at((0, 0))\n",
        "        image.set_colorkey(colorkey, RLEACCEL)\n",
        "\n",
        "    if sizex != -1 or sizey != -1:\n",
        "        image = pygame.transform.scale(image, (sizex, sizey))\n",
        "\n",
        "    return (image, image.get_rect())\n",
        "\n",
        "def load_sprite_sheet(\n",
        "        sheetname,\n",
        "        nx,\n",
        "        ny,\n",
        "        scalex = -1,\n",
        "        scaley = -1,\n",
        "        colorkey = None,\n",
        "        ):\n",
        "    fullname = os.path.join('sprites',sheetname)\n",
        "    sheet = pygame.image.load(fullname)\n",
        "    sheet = sheet.convert()\n",
        "\n",
        "    sheet_rect = sheet.get_rect()\n",
        "\n",
        "    sprites = []\n",
        "\n",
        "    sizex = sheet_rect.width/nx\n",
        "    sizey = sheet_rect.height/ny\n",
        "\n",
        "    for i in range(0,ny):\n",
        "        for j in range(0,nx):\n",
        "            rect = pygame.Rect((j*sizex,i*sizey,sizex,sizey))\n",
        "            image = pygame.Surface(rect.size)\n",
        "            image = image.convert()\n",
        "            image.blit(sheet,(0,0),rect)\n",
        "\n",
        "            if colorkey is not None:\n",
        "                if colorkey == -1:\n",
        "                    colorkey = image.get_at((0,0))\n",
        "                image.set_colorkey(colorkey,RLEACCEL)\n",
        "\n",
        "            if scalex != -1 or scaley != -1:\n",
        "                image = pygame.transform.scale(image,(scalex,scaley))\n",
        "\n",
        "            sprites.append(image)\n",
        "\n",
        "    sprite_rect = sprites[0].get_rect()\n",
        "\n",
        "    return sprites,sprite_rect\n",
        "\n",
        "''' \n",
        "Função de GAME OVER\n",
        "'''\n",
        "def disp_gameOver_msg(retbutton_image,gameover_image):\n",
        "    retbutton_rect = retbutton_image.get_rect()\n",
        "    retbutton_rect.centerx = int(width / 2)\n",
        "    retbutton_rect.top = int(height*0.52)\n",
        "\n",
        "    gameover_rect = gameover_image.get_rect()\n",
        "    gameover_rect.centerx = int(width / 2)\n",
        "    gameover_rect.centery = int(height*0.35)\n",
        "\n",
        "    screen.blit(retbutton_image, retbutton_rect)\n",
        "    screen.blit(gameover_image, gameover_rect)\n",
        "\n",
        "''' \n",
        "Função dos números para futuro score\n",
        "'''\n",
        "def extractDigits(number):\n",
        "    if number > -1:\n",
        "        digits = []\n",
        "        i = 0\n",
        "        while(number/10 != 0):\n",
        "            digits.append(number%10)\n",
        "            number = int(number/10)\n",
        "\n",
        "        digits.append(number%10)\n",
        "        for i in range(len(digits),5):\n",
        "            digits.append(0)\n",
        "        digits.reverse()\n",
        "        return digits\n",
        "''' \n",
        "Chrome Dino\n",
        "'''\n",
        "class Dino():\n",
        "    def __init__(self,sizex=-1,sizey=-1):\n",
        "        self.images,self.rect = load_sprite_sheet('dino.png',5,1,sizex,sizey,-1)\n",
        "        self.images1,self.rect1 = load_sprite_sheet('dino_ducking.png',2,1,59,sizey,-1)\n",
        "        self.rect.bottom = int(0.98*height)\n",
        "        self.rect.left = width/15\n",
        "        self.image = self.images[0]\n",
        "        self.index = 0\n",
        "        self.counter = 0\n",
        "        self.score = 0\n",
        "        self.isJumping = False\n",
        "        self.isDead = False\n",
        "        self.isDucking = False\n",
        "        self.isBlinking = False\n",
        "        self.movement = [0,0]\n",
        "        self.jumpSpeed = 11.5\n",
        "\n",
        "        self.stand_pos_width = self.rect.width\n",
        "        self.duck_pos_width = self.rect1.width\n",
        "\n",
        "    def draw(self):\n",
        "        screen.blit(self.image,self.rect)\n",
        "\n",
        "    def checkbounds(self):\n",
        "        if self.rect.bottom > int(0.98*height):\n",
        "            self.rect.bottom = int(0.98*height)\n",
        "            self.isJumping = False\n",
        "\n",
        "    def update(self):\n",
        "        if self.isJumping:\n",
        "            self.movement[1] = self.movement[1] + gravity\n",
        "\n",
        "        if self.isJumping:\n",
        "            self.index = 0\n",
        "        elif self.isBlinking:\n",
        "            if self.index == 0:\n",
        "                if self.counter % 400 == 399:\n",
        "                    self.index = (self.index + 1)%2\n",
        "            else:\n",
        "                if self.counter % 20 == 19:\n",
        "                    self.index = (self.index + 1)%2\n",
        "\n",
        "        elif self.isDucking:\n",
        "            if self.counter % 5 == 0:\n",
        "                self.index = (self.index + 1)%2\n",
        "        else:\n",
        "            if self.counter % 5 == 0:\n",
        "                self.index = (self.index + 1)%2 + 2\n",
        "\n",
        "        if self.isDead:\n",
        "           self.index = 4\n",
        "\n",
        "        if not self.isDucking:\n",
        "            self.image = self.images[self.index]\n",
        "            self.rect.width = self.stand_pos_width\n",
        "        else:\n",
        "            self.image = self.images1[(self.index)%2]\n",
        "            self.rect.width = self.duck_pos_width\n",
        "\n",
        "        self.rect = self.rect.move(self.movement)\n",
        "        self.checkbounds()\n",
        "\n",
        "        if not self.isDead and self.counter % 7 == 6 and self.isBlinking == False:\n",
        "            self.score += 1\n",
        "            if self.score % 100 == 0 and self.score != 0:\n",
        "                if pygame.mixer.get_init() != None:\n",
        "                    checkPoint_sound.play()\n",
        "\n",
        "        self.counter = (self.counter + 1)\n",
        "\n",
        "''' \n",
        "Cactus\n",
        "'''\n",
        "class Cactus(pygame.sprite.Sprite):\n",
        "    def __init__(self,speed=5,sizex=-1,sizey=-1):\n",
        "        pygame.sprite.Sprite.__init__(self,self.containers)\n",
        "        self.images,self.rect = load_sprite_sheet('cacti-small.png',3,1,sizex,sizey,-1)\n",
        "        self.rect.bottom = int(0.98*height)\n",
        "        self.rect.left = width + self.rect.width\n",
        "        self.image = self.images[random.randrange(0,3)]\n",
        "        self.movement = [-1*speed,0]\n",
        "\n",
        "    def draw(self):\n",
        "        screen.blit(self.image,self.rect)\n",
        "\n",
        "    def update(self):\n",
        "        self.rect = self.rect.move(self.movement)\n",
        "\n",
        "        if self.rect.right < 0:\n",
        "            self.kill()\n",
        "\n",
        "''' \n",
        "Pterodáctilo\n",
        "'''\n",
        "class Ptera(pygame.sprite.Sprite):\n",
        "    def __init__(self,speed=5,sizex=-1,sizey=-1):\n",
        "        pygame.sprite.Sprite.__init__(self,self.containers)\n",
        "        self.images,self.rect = load_sprite_sheet('ptera.png',2,1,sizex,sizey,-1)\n",
        "        self.ptera_height = [height*0.82,height*0.75,height*0.60]\n",
        "        self.rect.centery = self.ptera_height[random.randrange(0,3)]\n",
        "        self.rect.left = width + self.rect.width\n",
        "        self.image = self.images[0]\n",
        "        self.movement = [-1*speed,0]\n",
        "        self.index = 0\n",
        "        self.counter = 0\n",
        "\n",
        "    def draw(self):\n",
        "        screen.blit(self.image,self.rect)\n",
        "\n",
        "    def update(self):\n",
        "        if self.counter % 10 == 0:\n",
        "            self.index = (self.index+1)%2\n",
        "        self.image = self.images[self.index]\n",
        "        self.rect = self.rect.move(self.movement)\n",
        "        self.counter = (self.counter + 1)\n",
        "        if self.rect.right < 0:\n",
        "            self.kill()\n",
        "\n",
        "''' \n",
        "Chão\n",
        "'''\n",
        "class Ground():\n",
        "    def __init__(self,speed=-5):\n",
        "        self.image,self.rect = load_image('ground.png',-1,-1,-1)\n",
        "        self.image1,self.rect1 = load_image('ground.png',-1,-1,-1)\n",
        "        self.rect.bottom = height\n",
        "        self.rect1.bottom = height\n",
        "        self.rect1.left = self.rect.right\n",
        "        self.speed = speed\n",
        "\n",
        "    def draw(self):\n",
        "        screen.blit(self.image,self.rect)\n",
        "        screen.blit(self.image1,self.rect1)\n",
        "\n",
        "    def update(self):\n",
        "        self.rect.left += self.speed\n",
        "        self.rect1.left += self.speed\n",
        "\n",
        "        if self.rect.right < 0:\n",
        "            self.rect.left = self.rect1.right\n",
        "\n",
        "        if self.rect1.right < 0:\n",
        "            self.rect1.left = self.rect.right\n",
        "''' \n",
        "Nuvens\n",
        "'''\n",
        "class Cloud(pygame.sprite.Sprite):\n",
        "    def __init__(self,x,y):\n",
        "        pygame.sprite.Sprite.__init__(self,self.containers)\n",
        "        self.image,self.rect = load_image('cloud.png',int(90*30/42),30,-1)\n",
        "        self.speed = 1\n",
        "        self.rect.left = x\n",
        "        self.rect.top = y\n",
        "        self.movement = [-1*self.speed,0]\n",
        "\n",
        "    def draw(self):\n",
        "        screen.blit(self.image,self.rect)\n",
        "\n",
        "    def update(self):\n",
        "        self.rect = self.rect.move(self.movement)\n",
        "        if self.rect.right < 0:\n",
        "            self.kill()\n",
        "''' \n",
        "Score\n",
        "'''\n",
        "class Scoreboard():\n",
        "    def __init__(self,x=-1,y=-1):\n",
        "        self.score = 0\n",
        "        self.tempimages,self.temprect = load_sprite_sheet('numbers.png',12,1,11,int(11*6/5),-1)\n",
        "        self.image = pygame.Surface((55,int(11*6/5)))\n",
        "        self.rect = self.image.get_rect()\n",
        "        if x == -1:\n",
        "            self.rect.left = width*0.89\n",
        "        else:\n",
        "            self.rect.left = x\n",
        "        if y == -1:\n",
        "            self.rect.top = height*0.1\n",
        "        else:\n",
        "            self.rect.top = y\n",
        "\n",
        "    def draw(self):\n",
        "        screen.blit(self.image,self.rect)\n",
        "\n",
        "    def update(self,score):\n",
        "        score_digits = extractDigits(score)\n",
        "        self.image.fill(background_col)\n",
        "        for s in score_digits:\n",
        "            self.image.blit(self.tempimages[s],self.temprect)\n",
        "            self.temprect.left += self.temprect.width\n",
        "        self.temprect.left = 0\n",
        "\n",
        "''' \n",
        "Primeira tela\n",
        "'''\n",
        "def introscreen():\n",
        "    temp_dino = Dino(44,47)\n",
        "    temp_dino.isBlinking = True\n",
        "    gameStart = False\n",
        "\n",
        "    temp_ground,temp_ground_rect = load_sprite_sheet('ground.png',15,1,-1,-1,-1)\n",
        "    temp_ground_rect.left = width/20\n",
        "    temp_ground_rect.bottom = height\n",
        "\n",
        "    while not gameStart:\n",
        "        if pygame.display.get_surface() == None:\n",
        "            print(\"Couldn't load display surface\")\n",
        "            return True\n",
        "        else:\n",
        "            for event in pygame.event.get():\n",
        "                if event.type == pygame.QUIT:\n",
        "                    return True\n",
        "                if event.type == pygame.KEYDOWN:\n",
        "                    if event.key == pygame.K_SPACE or event.key == pygame.K_UP:\n",
        "                        temp_dino.isJumping = True\n",
        "                        temp_dino.isBlinking = False\n",
        "                        temp_dino.movement[1] = -1*temp_dino.jumpSpeed\n",
        "\n",
        "        temp_dino.update()\n",
        "\n",
        "        if pygame.display.get_surface() != None:\n",
        "            screen.fill(background_col)\n",
        "            screen.blit(temp_ground[0],temp_ground_rect)\n",
        "            temp_dino.draw()\n",
        "\n",
        "            pygame.display.update()\n",
        "\n",
        "        clock.tick(FPS)\n",
        "        if temp_dino.isJumping == False and temp_dino.isBlinking == False:\n",
        "            gameStart = True"
      ],
      "execution_count": null,
      "outputs": []
    },
    {
      "cell_type": "code",
      "metadata": {
        "id": "OLdPpe8Y6a7o"
      },
      "source": [
        "''' \n",
        "Regras de jogo\n",
        "'''\n",
        "def gameplay():\n",
        "    global high_score\n",
        "    gamespeed = 4\n",
        "    startMenu = False\n",
        "    gameOver = False\n",
        "    gameQuit = False\n",
        "    playerDino = Dino(44,47)\n",
        "    new_ground = Ground(-1*gamespeed)\n",
        "    scb = Scoreboard()\n",
        "    highsc = Scoreboard(width*0.78)\n",
        "    counter = 0\n",
        "\n",
        "    cacti = pygame.sprite.Group()\n",
        "    pteras = pygame.sprite.Group()\n",
        "    clouds = pygame.sprite.Group()\n",
        "    last_obstacle = pygame.sprite.Group()\n",
        "\n",
        "    Cactus.containers = cacti\n",
        "    Ptera.containers = pteras\n",
        "    Cloud.containers = clouds\n",
        "\n",
        "    retbutton_image,retbutton_rect = load_image('replay_button.png',35,31,-1)\n",
        "    gameover_image,gameover_rect = load_image('game_over.png',190,11,-1)\n",
        "\n",
        "    temp_images,temp_rect = load_sprite_sheet('numbers.png',12,1,11,int(11*6/5),-1)\n",
        "    HI_image = pygame.Surface((22,int(11*6/5)))\n",
        "    HI_rect = HI_image.get_rect()\n",
        "    HI_image.fill(background_col)\n",
        "    HI_image.blit(temp_images[10],temp_rect)\n",
        "    temp_rect.left += temp_rect.width\n",
        "    HI_image.blit(temp_images[11],temp_rect)\n",
        "    HI_rect.top = height*0.1\n",
        "    HI_rect.left = width*0.73\n",
        "\n",
        "    while not gameQuit:\n",
        "        while startMenu:\n",
        "            pass\n",
        "        while not gameOver:\n",
        "            if pygame.display.get_surface() == None:\n",
        "                print(\"Couldn't load display surface\")\n",
        "                gameQuit = True\n",
        "                gameOver = True\n",
        "            else:\n",
        "                for event in pygame.event.get():\n",
        "                    if event.type == pygame.QUIT:\n",
        "                        gameQuit = True\n",
        "                        gameOver = True\n",
        "\n",
        "                    if event.type == pygame.KEYDOWN:\n",
        "                        if event.key == pygame.K_SPACE:\n",
        "                            if playerDino.rect.bottom == int(0.98*height):\n",
        "                                playerDino.isJumping = True\n",
        "                                if pygame.mixer.get_init() != None:\n",
        "                                    jump_sound.play()\n",
        "                                playerDino.movement[1] = -1*playerDino.jumpSpeed\n",
        "\n",
        "                        if event.key == pygame.K_DOWN:\n",
        "                            if not (playerDino.isJumping and playerDino.isDead):\n",
        "                                playerDino.isDucking = True\n",
        "\n",
        "                    if event.type == pygame.KEYUP:\n",
        "                        if event.key == pygame.K_DOWN:\n",
        "                            playerDino.isDucking = False\n",
        "            for c in cacti:\n",
        "                c.movement[0] = -1*gamespeed\n",
        "                if pygame.sprite.collide_mask(playerDino,c):\n",
        "                    playerDino.isDead = True\n",
        "                    if pygame.mixer.get_init() != None:\n",
        "                        die_sound.play()\n",
        "\n",
        "            for p in pteras:\n",
        "                p.movement[0] = -1*gamespeed\n",
        "                if pygame.sprite.collide_mask(playerDino,p):\n",
        "                    playerDino.isDead = True\n",
        "                    if pygame.mixer.get_init() != None:\n",
        "                        die_sound.play()\n",
        "\n",
        "            if len(cacti) < 2:\n",
        "                if len(cacti) == 0:\n",
        "                    last_obstacle.empty()\n",
        "                    last_obstacle.add(Cactus(gamespeed,40,40))\n",
        "                else:\n",
        "                    for l in last_obstacle:\n",
        "                        if l.rect.right < width*0.7 and random.randrange(0,50) == 10:\n",
        "                            last_obstacle.empty()\n",
        "                            last_obstacle.add(Cactus(gamespeed, 40, 40))\n",
        "\n",
        "            if len(pteras) == 0 and random.randrange(0,200) == 10 and counter > 500:\n",
        "                for l in last_obstacle:\n",
        "                    if l.rect.right < width*0.8:\n",
        "                        last_obstacle.empty()\n",
        "                        last_obstacle.add(Ptera(gamespeed, 46, 40))\n",
        "\n",
        "            if len(clouds) < 5 and random.randrange(0,300) == 10:\n",
        "                Cloud(width,random.randrange(height/5,height/2))\n",
        "\n",
        "            playerDino.update()\n",
        "            cacti.update()\n",
        "            pteras.update()\n",
        "            clouds.update()\n",
        "            new_ground.update()\n",
        "            scb.update(playerDino.score)\n",
        "            highsc.update(high_score)\n",
        "\n",
        "            if pygame.display.get_surface() != None:\n",
        "                screen.fill(background_col)\n",
        "                new_ground.draw()\n",
        "                clouds.draw(screen)\n",
        "                scb.draw()\n",
        "                if high_score != 0:\n",
        "                    highsc.draw()\n",
        "                    screen.blit(HI_image,HI_rect)\n",
        "                cacti.draw(screen)\n",
        "                pteras.draw(screen)\n",
        "                playerDino.draw()\n",
        "\n",
        "                pygame.display.update()\n",
        "            clock.tick(FPS)\n",
        "\n",
        "            if playerDino.isDead:\n",
        "                gameOver = True\n",
        "                if playerDino.score > high_score:\n",
        "                    high_score = playerDino.score\n",
        "\n",
        "            if counter%700 == 699:\n",
        "                new_ground.speed -= 1\n",
        "                gamespeed += 1\n",
        "\n",
        "            counter = (counter + 1)\n",
        "\n",
        "        if gameQuit:\n",
        "            break\n",
        "\n",
        "        while gameOver:\n",
        "            if pygame.display.get_surface() == None:\n",
        "                print(\"Couldn't load display surface\")\n",
        "                gameQuit = True\n",
        "                gameOver = False\n",
        "            else:\n",
        "                for event in pygame.event.get():\n",
        "                    if event.type == pygame.QUIT:\n",
        "                        gameQuit = True\n",
        "                        gameOver = False\n",
        "                    if event.type == pygame.KEYDOWN:\n",
        "                        if event.key == pygame.K_ESCAPE:\n",
        "                            gameQuit = True\n",
        "                            gameOver = False\n",
        "\n",
        "                        if event.key == pygame.K_RETURN or event.key == pygame.K_SPACE:\n",
        "                            gameOver = False\n",
        "                            gameplay()\n",
        "            highsc.update(high_score)\n",
        "            if pygame.display.get_surface() != None:\n",
        "                disp_gameOver_msg(retbutton_image,gameover_image)\n",
        "                if high_score != 0:\n",
        "                    highsc.draw()\n",
        "                    screen.blit(HI_image,HI_rect)\n",
        "                pygame.display.update()\n",
        "            clock.tick(FPS)\n",
        "\n",
        "    pygame.quit()\n",
        "    quit()"
      ],
      "execution_count": null,
      "outputs": []
    },
    {
      "cell_type": "code",
      "metadata": {
        "id": "N-a5-4mK6WH-"
      },
      "source": [
        "def main():\n",
        "    isGameQuit = introscreen()\n",
        "    if not isGameQuit:\n",
        "        gameplay()\n",
        "\n",
        "main()"
      ],
      "execution_count": null,
      "outputs": []
    },
    {
      "cell_type": "code",
      "metadata": {
        "id": "iuzKgdsKCb0C"
      },
      "source": [
        "# OU... \n",
        "# https://pypi.org/project/dino-game/\n",
        "\n",
        "!pip install dino-game\n",
        "from dinogame import DinoGame\n",
        "game = DinoGame()\n",
        "game.play()"
      ],
      "execution_count": null,
      "outputs": []
    },
    {
      "cell_type": "markdown",
      "metadata": {
        "id": "rdUqR6VfOmsz"
      },
      "source": [
        "# Portfólio\n",
        "![alt](https://www.coderomeos.org/storage/uploads/images/posts/how-to-use-github-simple-github-tutorial-for-beginners-5d75f561e98d4.png)\n",
        "Crie seu perfil em www.github.com e inicia seus repositórios de códigos"
      ]
    },
    {
      "cell_type": "markdown",
      "metadata": {
        "id": "KYO66TrFN5uE"
      },
      "source": [
        "Material extra: https://drive.google.com/drive/folders/19N-sx92AtB8PrypFTivkGsnrsCIUhx4V\n",
        "![alt text](data:image/png;base64,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)"
      ]
    }
  ]
}